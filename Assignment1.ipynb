{
 "cells": [
  {
   "cell_type": "raw",
   "id": "68f63eca-1e17-44c5-aa95-01f1f6c0b0e3",
   "metadata": {},
   "source": [
    "1.   Who developed python programming language?\n",
    "ans: Guido van Rossum"
   ]
  },
  {
   "cell_type": "raw",
   "id": "2fb28297-d408-4e0c-a499-bacca807469b",
   "metadata": {},
   "source": [
    "2.   Which type of programming does python support?\n",
    "ans: Python supports object oriented programming."
   ]
  },
  {
   "cell_type": "raw",
   "id": "f430322f-9d40-4e49-be2f-a692184ad7d6",
   "metadata": {},
   "source": [
    "3.   Is python case sensitive when dealing with identifier?\n",
    "ans: Yes, python is case sensitive when dealing with identifier."
   ]
  },
  {
   "cell_type": "raw",
   "id": "9486c9ec-457b-4e43-b7cf-75456631c5cd",
   "metadata": {},
   "source": [
    "4.   What is the correct extension of the python file?\n",
    "ans: .py"
   ]
  },
  {
   "cell_type": "raw",
   "id": "b700393e-98d3-47e6-a3d2-d45b708339bd",
   "metadata": {},
   "source": [
    "5.   Is python code compiled or interpreted?\n",
    "ans: Python is a interpreted language."
   ]
  },
  {
   "cell_type": "raw",
   "id": "78edac6e-38a3-4a6f-a562-bc7d85d2eab9",
   "metadata": {},
   "source": [
    "6.   Name a few blocks of code use to define in python language?\n",
    "ans: module,function body,class"
   ]
  },
  {
   "cell_type": "raw",
   "id": "0b985481-6410-4d73-972b-cc823b83e370",
   "metadata": {},
   "source": [
    "7.   State a character used to give single-line comments in python?\n",
    "ans: #"
   ]
  },
  {
   "cell_type": "raw",
   "id": "5d498c80-0348-4f68-83dc-33fd44c7b2d8",
   "metadata": {},
   "source": [
    "8.   Mention a function which can help us to find the version of python that we are currently working on?\n",
    "ans: sys.version"
   ]
  },
  {
   "cell_type": "raw",
   "id": "a86b15d9-2b5a-4e0b-8f0b-07a0b5d22156",
   "metadata": {},
   "source": [
    "9.   Python supports the creation of anonymous functions at runtime,using a construct called _______\n",
    "ans: lambda"
   ]
  },
  {
   "cell_type": "raw",
   "id": "3f421205-8fa8-4968-9bf8-457ffa910759",
   "metadata": {},
   "source": [
    "10.  what does pip stand for python?\n",
    "ans: pip stands for preferred installer program."
   ]
  },
  {
   "cell_type": "raw",
   "id": "b2213817-526c-49f1-8121-37bd40238de0",
   "metadata": {},
   "source": [
    "11.  Mention a few built-in function in python?\n",
    "ans: print(),type(),len(),input()"
   ]
  },
  {
   "cell_type": "raw",
   "id": "d61778a3-e7d9-48e2-af18-fc65eefbce71",
   "metadata": {},
   "source": [
    "12.  What is the maximum possible length of an identifier in python?\n",
    "ans: 79 characters"
   ]
  },
  {
   "cell_type": "raw",
   "id": "6359b3e1-db01-41bf-aab9-794404afc263",
   "metadata": {},
   "source": [
    "13.  What are the benefits of using python?\n",
    "ans: 1.Python is highly extensible\n",
    "     2.High-level language \n",
    "     3.Dynamically typed language\n",
    "     4.Object-Oriented and Procedural  Programming language\n",
    "     5.Portable and Interactive\n",
    "     6.Supports multiple labraries"
   ]
  },
  {
   "cell_type": "raw",
   "id": "2f55205b-6344-4e36-a73b-04bd22744c5a",
   "metadata": {},
   "source": [
    "14.  How is memory managed in python?\n",
    "ans: Memory management in Python involves a private heap containing all Python objects and data structures. The management of this private        heap is ensured internally by the Python memory manager."
   ]
  },
  {
   "cell_type": "raw",
   "id": "5b4b8493-5a79-4a23-8865-ac7c7803710e",
   "metadata": {},
   "source": [
    "15.  How to install python on windows and set path variables?\n",
    "ans: \n",
    "     Python installation:\n",
    "     1.Download the Python Installer binaries.\n",
    "     2.Run the Executable Installer.\n",
    "     3. Add Python to environmental variables.\n",
    "     4. Verify the Python Installation.Right-clicking This PC and going to Properties.\n",
    "\n",
    "     Set path variable:\n",
    "     1.Clicking on the Advanced system settings in the menu on the left.\n",
    "     2.Clicking on the Environment Variables button o​n the bottom right.\n",
    "     3.In the System variables section, selecting the Path variable and clicking on Edit. The next screen will show all the directories that      are currently a part of the PATH variable.\n",
    "     4.Clicking on New and entering Python’s install directory."
   ]
  },
  {
   "cell_type": "raw",
   "id": "7e23c9c8-b7c5-4d89-8f77-e524f5f5bf35",
   "metadata": {},
   "source": [
    "16.  Is identation required in python?\n",
    "ans: The indentation in Python is very important because python uses indentation to indicate a block of code."
   ]
  }
 ],
 "metadata": {
  "kernelspec": {
   "display_name": "Python 3 (ipykernel)",
   "language": "python",
   "name": "python3"
  },
  "language_info": {
   "codemirror_mode": {
    "name": "ipython",
    "version": 3
   },
   "file_extension": ".py",
   "mimetype": "text/x-python",
   "name": "python",
   "nbconvert_exporter": "python",
   "pygments_lexer": "ipython3",
   "version": "3.10.8"
  }
 },
 "nbformat": 4,
 "nbformat_minor": 5
}
